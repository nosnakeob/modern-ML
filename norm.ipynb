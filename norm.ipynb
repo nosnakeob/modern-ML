{
 "metadata": {
  "language_info": {
   "codemirror_mode": {
    "name": "ipython",
    "version": 3
   },
   "file_extension": ".py",
   "mimetype": "text/x-python",
   "name": "python",
   "nbconvert_exporter": "python",
   "pygments_lexer": "ipython3",
   "version": "3.8.5-final"
  },
  "orig_nbformat": 2,
  "kernelspec": {
   "name": "Python 3.8.5 64-bit ('l2t': conda)",
   "display_name": "Python 3.8.5 64-bit ('l2t': conda)",
   "metadata": {
    "interpreter": {
     "hash": "248002295d75827ac89f2644b1a0363de62e9f1dc5f20b48deb6e14647d8d9c5"
    }
   }
  }
 },
 "nbformat": 4,
 "nbformat_minor": 2,
 "cells": [
  {
   "source": [
    "# 归一化对训练、数据影响？"
   ],
   "cell_type": "markdown",
   "metadata": {}
  },
  {
   "cell_type": "code",
   "execution_count": 7,
   "metadata": {},
   "outputs": [],
   "source": [
    "# %matplotlib inline\n",
    "# import matplotlib.pyplot as plt\n",
    "\n",
    "import torch\n",
    "from torchvision import transforms\n",
    "\n",
    "import pandas as pd\n",
    "from sklearn.preprocessing import MinMaxScaler\n",
    "\n",
    "# plt.style.use('fivethirtyeight')"
   ]
  },
  {
   "cell_type": "code",
   "execution_count": 2,
   "metadata": {},
   "outputs": [
    {
     "output_type": "execute_result",
     "data": {
      "text/plain": [
       "            Date       High        Low       Open      Close       Volume  \\\n",
       "0     2012-01-03  14.732142  14.607142  14.621428  14.686786  302220800.0   \n",
       "1     2012-01-04  14.810000  14.617143  14.642858  14.765715  260022000.0   \n",
       "2     2012-01-05  14.948215  14.738214  14.819643  14.929643  271269600.0   \n",
       "3     2012-01-06  15.098214  14.972143  14.991786  15.085714  318292800.0   \n",
       "4     2012-01-09  15.276786  15.048214  15.196428  15.061786  394024400.0   \n",
       "...          ...        ...        ...        ...        ...          ...   \n",
       "1998  2019-12-11  67.775002  67.125000  67.202499  67.692497   78756800.0   \n",
       "1999  2019-12-12  68.139999  66.830002  66.945000  67.864998  137310400.0   \n",
       "2000  2019-12-13  68.824997  67.732498  67.864998  68.787498  133587600.0   \n",
       "2001  2019-12-16  70.197502  69.245003  69.250000  69.964996  128186000.0   \n",
       "2002  2019-12-17  70.442497  69.699997  69.892502  70.102501  114158400.0   \n",
       "\n",
       "      Adj Close  \n",
       "0     12.691425  \n",
       "1     12.759631  \n",
       "2     12.901293  \n",
       "3     13.036158  \n",
       "4     13.015480  \n",
       "...         ...  \n",
       "1998  67.228699  \n",
       "1999  67.400017  \n",
       "2000  68.316193  \n",
       "2001  69.485619  \n",
       "2002  69.622192  \n",
       "\n",
       "[2003 rows x 7 columns]"
      ],
      "text/html": "<div>\n<style scoped>\n    .dataframe tbody tr th:only-of-type {\n        vertical-align: middle;\n    }\n\n    .dataframe tbody tr th {\n        vertical-align: top;\n    }\n\n    .dataframe thead th {\n        text-align: right;\n    }\n</style>\n<table border=\"1\" class=\"dataframe\">\n  <thead>\n    <tr style=\"text-align: right;\">\n      <th></th>\n      <th>Date</th>\n      <th>High</th>\n      <th>Low</th>\n      <th>Open</th>\n      <th>Close</th>\n      <th>Volume</th>\n      <th>Adj Close</th>\n    </tr>\n  </thead>\n  <tbody>\n    <tr>\n      <th>0</th>\n      <td>2012-01-03</td>\n      <td>14.732142</td>\n      <td>14.607142</td>\n      <td>14.621428</td>\n      <td>14.686786</td>\n      <td>302220800.0</td>\n      <td>12.691425</td>\n    </tr>\n    <tr>\n      <th>1</th>\n      <td>2012-01-04</td>\n      <td>14.810000</td>\n      <td>14.617143</td>\n      <td>14.642858</td>\n      <td>14.765715</td>\n      <td>260022000.0</td>\n      <td>12.759631</td>\n    </tr>\n    <tr>\n      <th>2</th>\n      <td>2012-01-05</td>\n      <td>14.948215</td>\n      <td>14.738214</td>\n      <td>14.819643</td>\n      <td>14.929643</td>\n      <td>271269600.0</td>\n      <td>12.901293</td>\n    </tr>\n    <tr>\n      <th>3</th>\n      <td>2012-01-06</td>\n      <td>15.098214</td>\n      <td>14.972143</td>\n      <td>14.991786</td>\n      <td>15.085714</td>\n      <td>318292800.0</td>\n      <td>13.036158</td>\n    </tr>\n    <tr>\n      <th>4</th>\n      <td>2012-01-09</td>\n      <td>15.276786</td>\n      <td>15.048214</td>\n      <td>15.196428</td>\n      <td>15.061786</td>\n      <td>394024400.0</td>\n      <td>13.015480</td>\n    </tr>\n    <tr>\n      <th>...</th>\n      <td>...</td>\n      <td>...</td>\n      <td>...</td>\n      <td>...</td>\n      <td>...</td>\n      <td>...</td>\n      <td>...</td>\n    </tr>\n    <tr>\n      <th>1998</th>\n      <td>2019-12-11</td>\n      <td>67.775002</td>\n      <td>67.125000</td>\n      <td>67.202499</td>\n      <td>67.692497</td>\n      <td>78756800.0</td>\n      <td>67.228699</td>\n    </tr>\n    <tr>\n      <th>1999</th>\n      <td>2019-12-12</td>\n      <td>68.139999</td>\n      <td>66.830002</td>\n      <td>66.945000</td>\n      <td>67.864998</td>\n      <td>137310400.0</td>\n      <td>67.400017</td>\n    </tr>\n    <tr>\n      <th>2000</th>\n      <td>2019-12-13</td>\n      <td>68.824997</td>\n      <td>67.732498</td>\n      <td>67.864998</td>\n      <td>68.787498</td>\n      <td>133587600.0</td>\n      <td>68.316193</td>\n    </tr>\n    <tr>\n      <th>2001</th>\n      <td>2019-12-16</td>\n      <td>70.197502</td>\n      <td>69.245003</td>\n      <td>69.250000</td>\n      <td>69.964996</td>\n      <td>128186000.0</td>\n      <td>69.485619</td>\n    </tr>\n    <tr>\n      <th>2002</th>\n      <td>2019-12-17</td>\n      <td>70.442497</td>\n      <td>69.699997</td>\n      <td>69.892502</td>\n      <td>70.102501</td>\n      <td>114158400.0</td>\n      <td>69.622192</td>\n    </tr>\n  </tbody>\n</table>\n<p>2003 rows × 7 columns</p>\n</div>"
     },
     "metadata": {},
     "execution_count": 2
    }
   ],
   "source": [
    "df = pd.read_csv('data/Stock/AAPL.csv')\n",
    "df"
   ]
  },
  {
   "cell_type": "code",
   "execution_count": 4,
   "metadata": {},
   "outputs": [
    {
     "output_type": "execute_result",
     "data": {
      "text/plain": [
       "array([[14.6867857 ],\n",
       "       [14.76571465],\n",
       "       [14.92964268],\n",
       "       ...,\n",
       "       [68.78749847],\n",
       "       [69.96499634],\n",
       "       [70.10250092]])"
      ]
     },
     "metadata": {},
     "execution_count": 4
    }
   ],
   "source": [
    "data_frame = df.filter(['Close'])\n",
    "data = data_frame.values\n",
    "data"
   ]
  },
  {
   "cell_type": "code",
   "execution_count": 5,
   "metadata": {},
   "outputs": [
    {
     "output_type": "stream",
     "name": "stdout",
     "text": [
      "1602 401\n"
     ]
    }
   ],
   "source": [
    "train_data_len = int(len(data) * .8)\n",
    "print(train_data_len, len(data) - train_data_len)"
   ]
  },
  {
   "source": [
    "## MinMaxScaler"
   ],
   "cell_type": "markdown",
   "metadata": {}
  },
  {
   "cell_type": "code",
   "execution_count": 13,
   "metadata": {},
   "outputs": [
    {
     "output_type": "execute_result",
     "data": {
      "text/plain": [
       "array([[-0.95594574],\n",
       "       [-0.95124234],\n",
       "       [-0.94147382],\n",
       "       ...,\n",
       "       [ 2.26793304],\n",
       "       [ 2.33810052],\n",
       "       [ 2.34629446]])"
      ]
     },
     "metadata": {},
     "execution_count": 13
    }
   ],
   "source": [
    "scaler = MinMaxScaler(feature_range=(-1, 1))\n",
    "\n",
    "scaled_data = scaler.fit(data[:train_data_len])\n",
    "scaled_data = scaler.transform(data)\n",
    "scaled_data"
   ]
  },
  {
   "source": [
    "## Normalize"
   ],
   "cell_type": "markdown",
   "metadata": {}
  },
  {
   "cell_type": "code",
   "execution_count": 15,
   "metadata": {},
   "outputs": [
    {
     "output_type": "error",
     "ename": "ValueError",
     "evalue": "axes don't match array",
     "traceback": [
      "\u001b[1;31m---------------------------------------------------------------------------\u001b[0m",
      "\u001b[1;31mValueError\u001b[0m                                Traceback (most recent call last)",
      "\u001b[1;32m<ipython-input-15-d6fb8313f168>\u001b[0m in \u001b[0;36m<module>\u001b[1;34m\u001b[0m\n\u001b[1;32m----> 1\u001b[1;33m \u001b[0mtransformed_data\u001b[0m \u001b[1;33m=\u001b[0m \u001b[0mtransforms\u001b[0m\u001b[1;33m.\u001b[0m\u001b[0mToTensor\u001b[0m\u001b[1;33m(\u001b[0m\u001b[1;33m)\u001b[0m\u001b[1;33m(\u001b[0m\u001b[0mdata\u001b[0m\u001b[1;33m)\u001b[0m\u001b[1;33m\u001b[0m\u001b[1;33m\u001b[0m\u001b[0m\n\u001b[0m\u001b[0;32m      2\u001b[0m \u001b[1;31m# transforms.Normalize((.5, ), (.5, ))\u001b[0m\u001b[1;33m\u001b[0m\u001b[1;33m\u001b[0m\u001b[1;33m\u001b[0m\u001b[0m\n\u001b[0;32m      3\u001b[0m \u001b[0mtransformed_data\u001b[0m\u001b[1;33m\u001b[0m\u001b[1;33m\u001b[0m\u001b[0m\n\u001b[0;32m      4\u001b[0m \u001b[1;33m\u001b[0m\u001b[0m\n",
      "\u001b[1;32m~\\.conda\\envs\\l2t\\lib\\site-packages\\torchvision\\transforms\\transforms.py\u001b[0m in \u001b[0;36m__call__\u001b[1;34m(self, pic)\u001b[0m\n\u001b[0;32m     74\u001b[0m             \u001b[0mTensor\u001b[0m\u001b[1;33m:\u001b[0m \u001b[0mConverted\u001b[0m \u001b[0mimage\u001b[0m\u001b[1;33m.\u001b[0m\u001b[1;33m\u001b[0m\u001b[1;33m\u001b[0m\u001b[0m\n\u001b[0;32m     75\u001b[0m         \"\"\"\n\u001b[1;32m---> 76\u001b[1;33m         \u001b[1;32mreturn\u001b[0m \u001b[0mF\u001b[0m\u001b[1;33m.\u001b[0m\u001b[0mto_tensor\u001b[0m\u001b[1;33m(\u001b[0m\u001b[0mpic\u001b[0m\u001b[1;33m)\u001b[0m\u001b[1;33m\u001b[0m\u001b[1;33m\u001b[0m\u001b[0m\n\u001b[0m\u001b[0;32m     77\u001b[0m \u001b[1;33m\u001b[0m\u001b[0m\n\u001b[0;32m     78\u001b[0m     \u001b[1;32mdef\u001b[0m \u001b[0m__repr__\u001b[0m\u001b[1;33m(\u001b[0m\u001b[0mself\u001b[0m\u001b[1;33m)\u001b[0m\u001b[1;33m:\u001b[0m\u001b[1;33m\u001b[0m\u001b[1;33m\u001b[0m\u001b[0m\n",
      "\u001b[1;32m~\\.conda\\envs\\l2t\\lib\\site-packages\\torchvision\\transforms\\functional.py\u001b[0m in \u001b[0;36mto_tensor\u001b[1;34m(pic)\u001b[0m\n\u001b[0;32m     46\u001b[0m     \u001b[1;32mif\u001b[0m \u001b[0misinstance\u001b[0m\u001b[1;33m(\u001b[0m\u001b[0mpic\u001b[0m\u001b[1;33m,\u001b[0m \u001b[0mnp\u001b[0m\u001b[1;33m.\u001b[0m\u001b[0mndarray\u001b[0m\u001b[1;33m)\u001b[0m\u001b[1;33m:\u001b[0m\u001b[1;33m\u001b[0m\u001b[1;33m\u001b[0m\u001b[0m\n\u001b[0;32m     47\u001b[0m         \u001b[1;31m# handle numpy array\u001b[0m\u001b[1;33m\u001b[0m\u001b[1;33m\u001b[0m\u001b[1;33m\u001b[0m\u001b[0m\n\u001b[1;32m---> 48\u001b[1;33m         \u001b[0mimg\u001b[0m \u001b[1;33m=\u001b[0m \u001b[0mtorch\u001b[0m\u001b[1;33m.\u001b[0m\u001b[0mfrom_numpy\u001b[0m\u001b[1;33m(\u001b[0m\u001b[0mpic\u001b[0m\u001b[1;33m.\u001b[0m\u001b[0mtranspose\u001b[0m\u001b[1;33m(\u001b[0m\u001b[1;33m(\u001b[0m\u001b[1;36m2\u001b[0m\u001b[1;33m,\u001b[0m \u001b[1;36m0\u001b[0m\u001b[1;33m,\u001b[0m \u001b[1;36m1\u001b[0m\u001b[1;33m)\u001b[0m\u001b[1;33m)\u001b[0m\u001b[1;33m)\u001b[0m\u001b[1;33m\u001b[0m\u001b[1;33m\u001b[0m\u001b[0m\n\u001b[0m\u001b[0;32m     49\u001b[0m         \u001b[1;31m# backward compatibility\u001b[0m\u001b[1;33m\u001b[0m\u001b[1;33m\u001b[0m\u001b[1;33m\u001b[0m\u001b[0m\n\u001b[0;32m     50\u001b[0m         \u001b[1;32mif\u001b[0m \u001b[0misinstance\u001b[0m\u001b[1;33m(\u001b[0m\u001b[0mimg\u001b[0m\u001b[1;33m,\u001b[0m \u001b[0mtorch\u001b[0m\u001b[1;33m.\u001b[0m\u001b[0mByteTensor\u001b[0m\u001b[1;33m)\u001b[0m\u001b[1;33m:\u001b[0m\u001b[1;33m\u001b[0m\u001b[1;33m\u001b[0m\u001b[0m\n",
      "\u001b[1;31mValueError\u001b[0m: axes don't match array"
     ]
    }
   ],
   "source": [
    "transformed_data = transforms.ToTensor()(data)\n",
    "# transforms.Normalize((.5, ), (.5, ))\n",
    "transformed_data\n",
    "\n"
   ]
  }
 ]
}