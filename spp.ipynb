{
 "metadata": {
  "language_info": {
   "codemirror_mode": {
    "name": "ipython",
    "version": 3
   },
   "file_extension": ".py",
   "mimetype": "text/x-python",
   "name": "python",
   "nbconvert_exporter": "python",
   "pygments_lexer": "ipython3",
   "version": "3.8.5-final"
  },
  "orig_nbformat": 2,
  "kernelspec": {
   "name": "Python 3.8.5 64-bit ('l2t': conda)",
   "display_name": "Python 3.8.5 64-bit ('l2t': conda)",
   "metadata": {
    "interpreter": {
     "hash": "93a4d4c3a05b2ff9bfa127ec977bc5d04711e6914c91aafdd360c295ca607987"
    }
   }
  }
 },
 "nbformat": 4,
 "nbformat_minor": 2,
 "cells": [
  {
   "source": [
    "# data"
   ],
   "cell_type": "markdown",
   "metadata": {}
  },
  {
   "cell_type": "code",
   "execution_count": 11,
   "metadata": {},
   "outputs": [],
   "source": [
    "import pandas as pd"
   ]
  },
  {
   "cell_type": "code",
   "execution_count": 23,
   "metadata": {},
   "outputs": [
    {
     "output_type": "execute_result",
     "data": {
      "text/plain": [
       "           High        Low       Open      Close       Volume\n",
       "0     14.732142  14.607142  14.621428  14.686786  302220800.0\n",
       "1     14.810000  14.617143  14.642858  14.765715  260022000.0\n",
       "2     14.948215  14.738214  14.819643  14.929643  271269600.0\n",
       "3     15.098214  14.972143  14.991786  15.085714  318292800.0\n",
       "4     15.276786  15.048214  15.196428  15.061786  394024400.0\n",
       "...         ...        ...        ...        ...          ...\n",
       "1998  67.775002  67.125000  67.202499  67.692497   78756800.0\n",
       "1999  68.139999  66.830002  66.945000  67.864998  137310400.0\n",
       "2000  68.824997  67.732498  67.864998  68.787498  133587600.0\n",
       "2001  70.197502  69.245003  69.250000  69.964996  128186000.0\n",
       "2002  70.442497  69.699997  69.892502  70.102501  114158400.0\n",
       "\n",
       "[2003 rows x 5 columns]"
      ],
      "text/html": "<div>\n<style scoped>\n    .dataframe tbody tr th:only-of-type {\n        vertical-align: middle;\n    }\n\n    .dataframe tbody tr th {\n        vertical-align: top;\n    }\n\n    .dataframe thead th {\n        text-align: right;\n    }\n</style>\n<table border=\"1\" class=\"dataframe\">\n  <thead>\n    <tr style=\"text-align: right;\">\n      <th></th>\n      <th>High</th>\n      <th>Low</th>\n      <th>Open</th>\n      <th>Close</th>\n      <th>Volume</th>\n    </tr>\n  </thead>\n  <tbody>\n    <tr>\n      <th>0</th>\n      <td>14.732142</td>\n      <td>14.607142</td>\n      <td>14.621428</td>\n      <td>14.686786</td>\n      <td>302220800.0</td>\n    </tr>\n    <tr>\n      <th>1</th>\n      <td>14.810000</td>\n      <td>14.617143</td>\n      <td>14.642858</td>\n      <td>14.765715</td>\n      <td>260022000.0</td>\n    </tr>\n    <tr>\n      <th>2</th>\n      <td>14.948215</td>\n      <td>14.738214</td>\n      <td>14.819643</td>\n      <td>14.929643</td>\n      <td>271269600.0</td>\n    </tr>\n    <tr>\n      <th>3</th>\n      <td>15.098214</td>\n      <td>14.972143</td>\n      <td>14.991786</td>\n      <td>15.085714</td>\n      <td>318292800.0</td>\n    </tr>\n    <tr>\n      <th>4</th>\n      <td>15.276786</td>\n      <td>15.048214</td>\n      <td>15.196428</td>\n      <td>15.061786</td>\n      <td>394024400.0</td>\n    </tr>\n    <tr>\n      <th>...</th>\n      <td>...</td>\n      <td>...</td>\n      <td>...</td>\n      <td>...</td>\n      <td>...</td>\n    </tr>\n    <tr>\n      <th>1998</th>\n      <td>67.775002</td>\n      <td>67.125000</td>\n      <td>67.202499</td>\n      <td>67.692497</td>\n      <td>78756800.0</td>\n    </tr>\n    <tr>\n      <th>1999</th>\n      <td>68.139999</td>\n      <td>66.830002</td>\n      <td>66.945000</td>\n      <td>67.864998</td>\n      <td>137310400.0</td>\n    </tr>\n    <tr>\n      <th>2000</th>\n      <td>68.824997</td>\n      <td>67.732498</td>\n      <td>67.864998</td>\n      <td>68.787498</td>\n      <td>133587600.0</td>\n    </tr>\n    <tr>\n      <th>2001</th>\n      <td>70.197502</td>\n      <td>69.245003</td>\n      <td>69.250000</td>\n      <td>69.964996</td>\n      <td>128186000.0</td>\n    </tr>\n    <tr>\n      <th>2002</th>\n      <td>70.442497</td>\n      <td>69.699997</td>\n      <td>69.892502</td>\n      <td>70.102501</td>\n      <td>114158400.0</td>\n    </tr>\n  </tbody>\n</table>\n<p>2003 rows × 5 columns</p>\n</div>"
     },
     "metadata": {},
     "execution_count": 23
    }
   ],
   "source": [
    "init_data = pd.read_csv('data\\Stock\\AAPL.csv', usecols=range(1, 6))\n",
    "init_data"
   ]
  },
  {
   "cell_type": "code",
   "execution_count": 24,
   "metadata": {},
   "outputs": [
    {
     "output_type": "execute_result",
     "data": {
      "text/plain": [
       "(array([[1.47321424e+01, 1.46071424e+01, 1.46214285e+01, 1.46867857e+01,\n",
       "         3.02220800e+08],\n",
       "        [1.48100004e+01, 1.46171427e+01, 1.46428576e+01, 1.47657146e+01,\n",
       "         2.60022000e+08],\n",
       "        [1.49482145e+01, 1.47382145e+01, 1.48196430e+01, 1.49296427e+01,\n",
       "         2.71269600e+08],\n",
       "        ...,\n",
       "        [6.88249969e+01, 6.77324982e+01, 6.78649979e+01, 6.87874985e+01,\n",
       "         1.33587600e+08],\n",
       "        [7.01975021e+01, 6.92450027e+01, 6.92500000e+01, 6.99649963e+01,\n",
       "         1.28186000e+08],\n",
       "        [7.04424973e+01, 6.96999969e+01, 6.98925018e+01, 7.01025009e+01,\n",
       "         1.14158400e+08]]),\n",
       " (2003, 5),\n",
       " ['High', 'Low', 'Open', 'Close', 'Volume'])"
      ]
     },
     "metadata": {},
     "execution_count": 24
    }
   ],
   "source": [
    "data, data_col_name = init_data.values, init_data.columns.tolist()\n",
    "data, data.shape, data_col_name"
   ]
  },
  {
   "cell_type": "code",
   "execution_count": 25,
   "metadata": {},
   "outputs": [
    {
     "output_type": "execute_result",
     "data": {
      "text/plain": [
       "(2003, 1001)"
      ]
     },
     "metadata": {},
     "execution_count": 25
    }
   ],
   "source": [
    "data_num = data.shape[0]\n",
    "train_data_rate = .5\n",
    "train_num = int(data_num * train_data_rate)\n",
    "data_num, train_num"
   ]
  },
  {
   "cell_type": "code",
   "execution_count": 26,
   "metadata": {},
   "outputs": [
    {
     "output_type": "execute_result",
     "data": {
      "text/plain": [
       "array([[-1.36487875, -1.3515435 , -1.36331024, -1.35628953,  0.34021501],\n",
       "       [-1.35865208, -1.35073084, -1.3615814 , -1.34993286,  0.11516525],\n",
       "       [-1.34759845, -1.34089205, -1.34731887, -1.33673066,  0.17514965],\n",
       "       ...,\n",
       "       [ 2.96118084,  2.9656416 ,  2.93222436,  3.00079713, -0.55912007],\n",
       "       [ 3.07094652,  3.08855395,  3.04396226,  3.09562879, -0.58792726],\n",
       "       [ 3.09053993,  3.12552865,  3.09579742,  3.10670293, -0.66273763]])"
      ]
     },
     "metadata": {},
     "execution_count": 26
    }
   ],
   "source": [
    "def normalize(data):\n",
    "    mean = np.mean(data, axis=0)\n",
    "    std = np.std(data, axis=0)\n",
    "\n",
    "    return (data - mean) / std\n",
    "\n",
    "norm_data = normalize(data)\n",
    "norm_data"
   ]
  },
  {
   "source": [
    "## train"
   ],
   "cell_type": "markdown",
   "metadata": {}
  },
  {
   "cell_type": "code",
   "execution_count": null,
   "metadata": {},
   "outputs": [],
   "source": [
    "feature_data = norm_data[:train_num]\n",
    "label_data = norm_data[]"
   ]
  },
  {
   "source": [
    "# model"
   ],
   "cell_type": "markdown",
   "metadata": {}
  },
  {
   "cell_type": "code",
   "execution_count": 10,
   "metadata": {},
   "outputs": [],
   "source": [
    "import torch\n",
    "from torch.nn import Module, LSTM, Linear\n",
    "from torch.utils.data import DataLoader, TensorDataset\n",
    "import numpy as np\n",
    "\n",
    "class Net(Module):\n",
    "    def __init__(self, input_size, output_size,hidden_size=128, lstm_layers=2, dropout_rate=.2):\n",
    "        super(Net, self).__init__()\n",
    "        self.lstm = LSTM(input_size=input_size, hidden_size=hidden_size, num_layers=lstm_layers, batch_first=True, dropout=dropout_rate)\n",
    "        self.linear = Linear(hidden_size, output_size)\n",
    "    \n",
    "    def forward(self, x):\n",
    "        lstm_out,  = self.lstm(x)\n",
    "        linear_out = self.linear(lstm_out)\n",
    "        return linear_out"
   ]
  }
 ]
}