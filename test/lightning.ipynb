{
 "cells": [
  {
   "cell_type": "markdown",
   "source": [
    "## 基于pytorch lightning框架训练FashionMNIST分类识别"
   ],
   "metadata": {
    "collapsed": false
   }
  },
  {
   "cell_type": "code",
   "execution_count": null,
   "metadata": {
    "collapsed": true
   },
   "outputs": [],
   "source": [
    "import torch\n",
    "from pytorch_lightning import LightningModule, Trainer\n",
    "from pytorch_lightning.callbacks import ModelCheckpoint, EarlyStopping\n",
    "from pytorch_lightning.loggers import TensorBoardLogger\n",
    "from pytorch_lightning.tuner import Tuner\n",
    "from torch.nn import CrossEntropyLoss\n",
    "from torch.optim import Adam\n",
    "from torchmetrics.classification import MulticlassAccuracy\n",
    "from torchvision import transforms\n",
    "from torchvision.datasets import FashionMNIST\n",
    "\n",
    "from data.dm_interface import BuildInDataModuleI\n",
    "from models.classify_model import *\n"
   ]
  },
  {
   "cell_type": "code",
   "execution_count": null,
   "outputs": [],
   "source": [
    "\n",
    "class CatImg:\n",
    "    def __init__(self):\n",
    "        pass\n",
    "\n",
    "    def __call__(self, img):\n",
    "        return torch.cat([img, img, img], dim=0)\n",
    "\n",
    "\n",
    "class FashionMNISTDataModule(BuildInDataModuleI):\n",
    "    def __init__(self, data_dir: str = \"../data\", batch_size: int = 32, num_workers: int = 6):\n",
    "        transform = transforms.Compose([\n",
    "            transforms.ToTensor(),\n",
    "            transforms.Normalize((0.1307,), (0.3081,)),\n",
    "            CatImg()\n",
    "        ])\n",
    "\n",
    "        super().__init__(FashionMNIST, data_dir, transform, transform, batch_size, num_workers)\n",
    "\n",
    "\n",
    "class MNISTLitModule(LightningModule):\n",
    "    def __init__(self, num_classes=10, lr=0.001):\n",
    "        super(MNISTLitModule, self).__init__()\n",
    "        self.save_hyperparameters()\n",
    "\n",
    "        self.model = models.resnet18(num_classes=num_classes)\n",
    "        # self.model = models.swin_v2_t(num_classes=num_classes)\n",
    "        # self.model = ConvNet(num_classes=num_classes)\n",
    "\n",
    "        self.loss_fn = CrossEntropyLoss()\n",
    "\n",
    "        self.acc = MulticlassAccuracy(num_classes=num_classes)\n",
    "\n",
    "    def forward(self, x):\n",
    "        return self.model(x)\n",
    "\n",
    "    def configure_optimizers(self):\n",
    "        return Adam(self.parameters(), lr=self.hparams.lr)\n",
    "\n",
    "    def training_step(self, batch, batch_idx):\n",
    "        imgs, labels = batch\n",
    "        # print(imgs.shape)\n",
    "\n",
    "        pred = self(imgs)\n",
    "        loss = self.loss_fn(pred, labels)\n",
    "        self.log('train_loss', loss)\n",
    "        return loss\n",
    "\n",
    "    def validation_step(self, batch, batch_idx):\n",
    "        imgs, labels = batch\n",
    "\n",
    "        pred = self(imgs)\n",
    "        loss = self.loss_fn(pred, labels)\n",
    "        self.log('val_loss', loss)\n",
    "        return loss\n",
    "\n",
    "    def test_step(self, batch, batch_idx):\n",
    "        imgs, labels = batch\n",
    "\n",
    "        pred = self(imgs)\n",
    "        loss = self.loss_fn(pred, labels)\n",
    "        self.acc(pred, labels)\n",
    "        self.log('test_loss', loss)\n",
    "        self.log('test_acc', self.acc, on_step=False, on_epoch=True)\n",
    "        return loss\n"
   ],
   "metadata": {
    "collapsed": false
   }
  },
  {
   "cell_type": "code",
   "execution_count": null,
   "outputs": [],
   "source": [
    "mnist_dm = FashionMNISTDataModule(batch_size=256)\n",
    "module = MNISTLitModule()\n",
    "print('module loaded')\n",
    "\n",
    "checkpoint_callback = ModelCheckpoint(\n",
    "    monitor='val_loss',\n",
    "    save_top_k=3,\n",
    "    mode='min',\n",
    ")\n",
    "\n",
    "early_stop_callback = EarlyStopping(\n",
    "    monitor='val_loss',\n",
    "    patience=3,\n",
    "    mode='min',\n",
    ")\n",
    "\n",
    "logger = TensorBoardLogger('../logs', name='mnist')\n",
    "\n",
    "logger.log_hyperparams(module.hparams)\n",
    "\n",
    "trainer = Trainer(\n",
    "    # default_root_dir='..',\n",
    "    max_epochs=3,\n",
    "    precision='16-mixed',\n",
    "    logger=logger,\n",
    "    callbacks=[checkpoint_callback, early_stop_callback],\n",
    "    num_sanity_val_steps=0,\n",
    "    # fast_dev_run=True\n",
    ")\n"
   ],
   "metadata": {
    "collapsed": false
   }
  },
  {
   "cell_type": "code",
   "execution_count": null,
   "outputs": [],
   "source": [
    "\n",
    "tuner = Tuner(trainer)\n",
    "\n",
    "tuner.lr_find(module, datamodule=mnist_dm)\n",
    "tuner.scale_batch_size(module, datamodule=mnist_dm)\n"
   ],
   "metadata": {
    "collapsed": false
   }
  },
  {
   "cell_type": "code",
   "execution_count": null,
   "outputs": [],
   "source": [
    "trainer.fit(module, mnist_dm)\n",
    "trainer.test(module, mnist_dm)\n"
   ],
   "metadata": {
    "collapsed": false
   }
  }
 ],
 "metadata": {
  "kernelspec": {
   "display_name": "Python 3",
   "language": "python",
   "name": "python3"
  },
  "language_info": {
   "codemirror_mode": {
    "name": "ipython",
    "version": 2
   },
   "file_extension": ".py",
   "mimetype": "text/x-python",
   "name": "python",
   "nbconvert_exporter": "python",
   "pygments_lexer": "ipython2",
   "version": "2.7.6"
  }
 },
 "nbformat": 4,
 "nbformat_minor": 0
}
